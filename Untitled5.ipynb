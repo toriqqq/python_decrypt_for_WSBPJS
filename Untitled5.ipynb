{
  "nbformat": 4,
  "nbformat_minor": 0,
  "metadata": {
    "colab": {
      "provenance": [],
      "authorship_tag": "ABX9TyMKU2XeKphoaMi5OEw1FLZd",
      "include_colab_link": true
    },
    "kernelspec": {
      "name": "python3",
      "display_name": "Python 3"
    },
    "language_info": {
      "name": "python"
    }
  },
  "cells": [
    {
      "cell_type": "markdown",
      "metadata": {
        "id": "view-in-github",
        "colab_type": "text"
      },
      "source": [
        "<a href=\"https://colab.research.google.com/github/toriqqq/python_decrypt_for_WSBPJS/blob/main/Untitled5.ipynb\" target=\"_parent\"><img src=\"https://colab.research.google.com/assets/colab-badge.svg\" alt=\"Open In Colab\"/></a>"
      ]
    },
    {
      "cell_type": "code",
      "execution_count": 2,
      "metadata": {
        "colab": {
          "base_uri": "https://localhost:8080/"
        },
        "id": "EMcL2GByWXBp",
        "outputId": "43993f55-2784-4a48-9990-ec28149e5670"
      },
      "outputs": [
        {
          "output_type": "stream",
          "name": "stdout",
          "text": [
            "Requirement already satisfied: pycryptodome in /usr/local/lib/python3.10/dist-packages (3.20.0)\n",
            "Collecting lzstring\n",
            "  Downloading lzstring-1.0.4.tar.gz (4.3 kB)\n",
            "  Preparing metadata (setup.py) ... \u001b[?25l\u001b[?25hdone\n",
            "Requirement already satisfied: future>=0.14.0 in /usr/local/lib/python3.10/dist-packages (from lzstring) (0.18.3)\n",
            "Building wheels for collected packages: lzstring\n",
            "  Building wheel for lzstring (setup.py) ... \u001b[?25l\u001b[?25hdone\n",
            "  Created wheel for lzstring: filename=lzstring-1.0.4-py2.py3-none-any.whl size=4568 sha256=79de718e6fb1f6bec2e9de32dae5c51f2315136c901af4d7166f8dcb80259d4a\n",
            "  Stored in directory: /root/.cache/pip/wheels/aa/25/dc/ef10d6c8d762029393d3ef1710c63a7d6714bf1db32d04f3ad\n",
            "Successfully built lzstring\n",
            "Installing collected packages: lzstring\n",
            "Successfully installed lzstring-1.0.4\n"
          ]
        }
      ],
      "source": [
        "!pip install pycryptodome\n",
        "!pip install lzstring"
      ]
    },
    {
      "cell_type": "code",
      "source": [
        "import hashlib\n",
        "from Crypto.Cipher import AES\n",
        "from Crypto.Util.Padding import pad, unpad\n",
        "import base64\n",
        "import lzstring\n",
        "\n",
        "\n",
        "def decrypt(key, txt_enc):\n",
        "\n",
        "    x = lzstring.LZString()\n",
        "\n",
        "    key_hash = hashlib.sha256(key.encode('utf-8')).digest()\n",
        "\n",
        "    mode = AES.MODE_CBC\n",
        "\n",
        "    # decrypt\n",
        "    decryptor = AES.new(key_hash[0:32], mode, IV=key_hash[0:16])\n",
        "    plain = decryptor.decrypt(base64.b64decode(txt_enc))\n",
        "    decompress = x.decompressFromEncodedURIComponent(plain.decode('utf-8'))\n",
        "\n",
        "    return decompress"
      ],
      "metadata": {
        "id": "ecb-bWkSWfzH"
      },
      "execution_count": 17,
      "outputs": []
    },
    {
      "cell_type": "code",
      "source": [
        "decrypt(\"257239tXA3AFD601715667257\", \"SA4j7kRZSXBo3c2mHIoZKXKx7uEMQrkG5hP1al30m68cGQ6qhewzOr2tTSlSqmQYpsRAnZsxyFLTqRKvz0Z3OB8XHjkOeT7OzkTeW83mQ/R5/UrQ4ZW024OKMy6eYx+72893QUmC5ImxR4sWsjirm/QWskX+vo1Xo1koY5jm+22Byc04PKoUTgy7TnWHr/Q4\")"
      ],
      "metadata": {
        "colab": {
          "base_uri": "https://localhost:8080/",
          "height": 35
        },
        "id": "26sbMO7tXMTA",
        "outputId": "727da250-e6a9-46fb-898c-64b20da155f0"
      },
      "execution_count": 19,
      "outputs": [
        {
          "output_type": "execute_result",
          "data": {
            "text/plain": [
              "'[{\"namadokter\":\"Tenaga Medis 247130\",\"kodedokter\":247130,\"jampraktek\":\"15:00-18:30\",\"kapasitas\":11}]'"
            ],
            "application/vnd.google.colaboratory.intrinsic+json": {
              "type": "string"
            }
          },
          "metadata": {},
          "execution_count": 19
        }
      ]
    }
  ]
}